{
 "cells": [
  {
   "cell_type": "code",
   "execution_count": 3,
   "id": "14b36a92",
   "metadata": {},
   "outputs": [
    {
     "data": {
      "application/javascript": [
       "\n",
       "try {\n",
       "require(['notebook/js/codecell'], function(codecell) {\n",
       "  codecell.CodeCell.options_default.highlight_modes[\n",
       "      'magic_text/x-csrc'] = {'reg':[/^%%microblaze/]};\n",
       "  Jupyter.notebook.events.one('kernel_ready.Kernel', function(){\n",
       "      Jupyter.notebook.get_cells().map(function(cell){\n",
       "          if (cell.cell_type == 'code'){ cell.auto_highlight(); } }) ;\n",
       "  });\n",
       "});\n",
       "} catch (e) {};\n"
      ]
     },
     "metadata": {},
     "output_type": "display_data"
    },
    {
     "data": {
      "application/javascript": [
       "\n",
       "try {\n",
       "require(['notebook/js/codecell'], function(codecell) {\n",
       "  codecell.CodeCell.options_default.highlight_modes[\n",
       "      'magic_text/x-csrc'] = {'reg':[/^%%pybind11/]};\n",
       "  Jupyter.notebook.events.one('kernel_ready.Kernel', function(){\n",
       "      Jupyter.notebook.get_cells().map(function(cell){\n",
       "          if (cell.cell_type == 'code'){ cell.auto_highlight(); } }) ;\n",
       "  });\n",
       "});\n",
       "} catch (e) {};\n"
      ]
     },
     "metadata": {},
     "output_type": "display_data"
    },
    {
     "name": "stdout",
     "output_type": "stream",
     "text": [
      "finish\n"
     ]
    }
   ],
   "source": [
    "from pynq.overlays.base import BaseOverlay\n",
    "base_overlay = BaseOverlay(\"base.bit\")\n",
    "\n",
    "print(\"finish\")"
   ]
  },
  {
   "cell_type": "code",
   "execution_count": 8,
   "id": "a703a9e8",
   "metadata": {
    "collapsed": true
   },
   "outputs": [
    {
     "name": "stdout",
     "output_type": "stream",
     "text": [
      "Help on BaseOverlay in module pynq.overlays.base.base:\n",
      "\n",
      "<pynq.overlays.base.base.BaseOverlay object>\n",
      "    Default documentation for overlay base.bit. The following\n",
      "    attributes are available on this overlay:\n",
      "    \n",
      "    IP Blocks\n",
      "    ----------\n",
      "    video/hdmi_in/frontend/vtc_in : pynq.overlay.DefaultIP\n",
      "    video/hdmi_out/frontend/vtc_out : pynq.overlay.DefaultIP\n",
      "    switches_gpio        : pynq.lib.axigpio.AxiGPIO\n",
      "    btns_gpio            : pynq.lib.axigpio.AxiGPIO\n",
      "    video/hdmi_in/frontend/axi_gpio_hdmiin : pynq.lib.axigpio.AxiGPIO\n",
      "    video/hdmi_out/frontend/hdmi_out_hpd_video : pynq.lib.axigpio.AxiGPIO\n",
      "    rgbleds_gpio         : pynq.lib.axigpio.AxiGPIO\n",
      "    leds_gpio            : pynq.lib.axigpio.AxiGPIO\n",
      "    system_interrupts    : pynq.overlay.DefaultIP\n",
      "    video/axi_vdma       : pynq.lib.video.dma.AxiVDMA\n",
      "    audio_direct_0       : pynq.lib.audio.AudioDirect\n",
      "    video/hdmi_out/frontend/axi_dynclk : pynq.overlay.DefaultIP\n",
      "    video/hdmi_in/pixel_pack : pynq.lib.video.pipeline.PixelPacker\n",
      "    video/hdmi_in/color_convert : pynq.lib.video.pipeline.ColorConverter\n",
      "    video/hdmi_out/color_convert : pynq.lib.video.pipeline.ColorConverter\n",
      "    video/hdmi_out/pixel_unpack : pynq.lib.video.pipeline.PixelPacker\n",
      "    trace_analyzer_pmoda/axi_dma_0 : pynq.lib.dma.DMA\n",
      "    trace_analyzer_arduino/axi_dma_0 : pynq.lib.dma.DMA\n",
      "    trace_analyzer_arduino/trace_cntrl_64_0 : pynq.overlay.DefaultIP\n",
      "    trace_analyzer_pmoda/trace_cntrl_32_0 : pynq.overlay.DefaultIP\n",
      "    ps7_0                : pynq.overlay.DefaultIP\n",
      "    \n",
      "    Hierarchies\n",
      "    -----------\n",
      "    iop_arduino          : pynq.lib.pynqmicroblaze.pynqmicroblaze.MicroblazeHierarchy\n",
      "    iop_pmoda            : pynq.lib.pynqmicroblaze.pynqmicroblaze.MicroblazeHierarchy\n",
      "    iop_pmodb            : pynq.lib.pynqmicroblaze.pynqmicroblaze.MicroblazeHierarchy\n",
      "    trace_analyzer_arduino : pynq.overlay.DefaultHierarchy\n",
      "    trace_analyzer_pmoda : pynq.overlay.DefaultHierarchy\n",
      "    video                : pynq.lib.video.hierarchies.HDMIWrapper\n",
      "    video/hdmi_in        : pynq.lib.video.hierarchies.VideoIn\n",
      "    video/hdmi_in/frontend : pynq.lib.video.dvi.HDMIInFrontend\n",
      "    video/hdmi_out       : pynq.lib.video.hierarchies.VideoOut\n",
      "    video/hdmi_out/frontend : pynq.lib.video.dvi.HDMIOutFrontend\n",
      "    \n",
      "    Interrupts\n",
      "    ----------\n",
      "    None\n",
      "    \n",
      "    GPIO Outputs\n",
      "    ------------\n",
      "    None\n",
      "    \n",
      "    Memories\n",
      "    ------------\n",
      "    iop_pmodamb_bram_ctrl : Memory\n",
      "    iop_pmodbmb_bram_ctrl : Memory\n",
      "    iop_arduinomb_bram_ctrl : Memory\n",
      "    PSDDR                : Memory\n",
      "\n"
     ]
    }
   ],
   "source": [
    "help(base_overlay)"
   ]
  },
  {
   "cell_type": "code",
   "execution_count": 7,
   "id": "4cd244a7",
   "metadata": {
    "collapsed": true
   },
   "outputs": [
    {
     "name": "stdout",
     "output_type": "stream",
     "text": [
      "Help on MicroblazeHierarchy in module pynq.lib.pynqmicroblaze.pynqmicroblaze object:\n",
      "\n",
      "class MicroblazeHierarchy(pynq.overlay.DefaultHierarchy)\n",
      " |  MicroblazeHierarchy(description, mbtype='Unknown')\n",
      " |  \n",
      " |  Hierarchy driver for the microblaze subsystem.\n",
      " |  \n",
      " |  Enables the user to `load` programs on to the microblaze. All function\n",
      " |  calls and member accesses are delegated to the loaded program.\n",
      " |  \n",
      " |  Method resolution order:\n",
      " |      MicroblazeHierarchy\n",
      " |      pynq.overlay.DefaultHierarchy\n",
      " |      pynq.overlay._IPMap\n",
      " |      builtins.object\n",
      " |  \n",
      " |  Methods defined here:\n",
      " |  \n",
      " |  __init__(self, description, mbtype='Unknown')\n",
      " |      Create a new _IPMap based on a hierarchical description.\n",
      " |  \n",
      " |  ----------------------------------------------------------------------\n",
      " |  Static methods defined here:\n",
      " |  \n",
      " |  checkhierarchy(description)\n",
      " |      Function to check if the driver matches a particular hierarchy\n",
      " |      \n",
      " |      This function should be redefined in derived classes to return True\n",
      " |      if the description matches what is expected by the driver. The default\n",
      " |      implementation always returns False so that drivers that forget don't\n",
      " |      get loaded for hierarchies they don't expect.\n",
      " |  \n",
      " |  ----------------------------------------------------------------------\n",
      " |  Data descriptors defined here:\n",
      " |  \n",
      " |  mbtype\n",
      " |      The defined type of the microblaze subsystem. Used by driver\n",
      " |      programs to limit what microblaze subsystems the program is run on.\n",
      " |  \n",
      " |  ----------------------------------------------------------------------\n",
      " |  Methods inherited from pynq.overlay.DefaultHierarchy:\n",
      " |  \n",
      " |  download(self, bitfile_name, dtbo=None, program=True)\n",
      " |      Function to download a partial bitstream for the hierarchy block.\n",
      " |      \n",
      " |      Since it is hard to know which hierarchy is to be reconfigured by only\n",
      " |      looking at the metadata, we assume users will tell this information.\n",
      " |      Thus, this function should be called only when users are sure about\n",
      " |      the hierarchy name of the partial region.\n",
      " |      \n",
      " |      Parameters\n",
      " |      ----------\n",
      " |      bitfile_name : str\n",
      " |          The name of the partial bitstream.\n",
      " |      dtbo : str\n",
      " |          The relative or absolute path of the partial dtbo file.\n",
      " |      program : bool\n",
      " |          Whether the overlay should be downloaded.\n",
      " |  \n",
      " |  ----------------------------------------------------------------------\n",
      " |  Methods inherited from pynq.overlay._IPMap:\n",
      " |  \n",
      " |  __dir__(self)\n",
      " |      Default dir() implementation.\n",
      " |  \n",
      " |  __getattr__(self, key)\n",
      " |  \n",
      " |  ----------------------------------------------------------------------\n",
      " |  Data descriptors inherited from pynq.overlay._IPMap:\n",
      " |  \n",
      " |  __dict__\n",
      " |      dictionary for instance variables (if defined)\n",
      " |  \n",
      " |  __weakref__\n",
      " |      list of weak references to the object (if defined)\n",
      "\n"
     ]
    }
   ],
   "source": [
    "help(base_overlay.iop_pmoda)"
   ]
  },
  {
   "cell_type": "code",
   "execution_count": 9,
   "id": "fdc791fb",
   "metadata": {},
   "outputs": [
    {
     "name": "stdout",
     "output_type": "stream",
     "text": [
      "done\n"
     ]
    }
   ],
   "source": [
    "def unsignedToSigned(n, byte_count): \n",
    "  return int.from_bytes(n.to_bytes(byte_count, 'little', signed=False), 'little', signed=True)\n",
    "\n",
    "def signedToUnsigned(n, byte_count): \n",
    "  return int.from_bytes(n.to_bytes(byte_count, 'little', signed=True), 'little', signed=False)\n",
    "\n",
    "def print_byte_array(label, byte_array):\n",
    "    # 使用 join 和格式化來逐個顯示每個位元組為 16 進位\n",
    "    hex_values = \" \".join(f\"0x{byte:02X}\" for byte in byte_array)\n",
    "    print(f\"{label}: [{hex_values}]\")\n",
    "    \n",
    "print(\"done\")"
   ]
  },
  {
   "cell_type": "code",
   "execution_count": 32,
   "id": "614f6d88",
   "metadata": {
    "scrolled": true
   },
   "outputs": [
    {
     "name": "stdout",
     "output_type": "stream",
     "text": [
      "-1\n",
      "255\n"
     ]
    }
   ],
   "source": [
    "print(unsignedToSigned(255, 1))\n",
    "print(signedToUnsigned(-1, 1))"
   ]
  },
  {
   "cell_type": "code",
   "execution_count": 10,
   "id": "44d9157d",
   "metadata": {},
   "outputs": [
    {
     "name": "stdout",
     "output_type": "stream",
     "text": [
      "wbyte2Send: [0x84 0xC0]\n"
     ]
    }
   ],
   "source": [
    "wbasebit=0x80\n",
    "R = 4\n",
    "D = 0xC0\n",
    "wbit2Send=wbasebit+R\n",
    "wbyte2Send=[wbit2Send,D]\n",
    "print_byte_array(\"wbyte2Send\", wbyte2Send)"
   ]
  },
  {
   "cell_type": "code",
   "execution_count": 20,
   "id": "d97f12da",
   "metadata": {
    "scrolled": true
   },
   "outputs": [
    {
     "name": "stdout",
     "output_type": "stream",
     "text": [
      "1\n",
      "end\n"
     ]
    }
   ],
   "source": [
    "for x in range(1,2):\n",
    "    print(x)\n",
    "print(\"end\")"
   ]
  },
  {
   "cell_type": "code",
   "execution_count": null,
   "id": "ee5837c1",
   "metadata": {},
   "outputs": [],
   "source": []
  }
 ],
 "metadata": {
  "kernelspec": {
   "display_name": "Python 3 (ipykernel)",
   "language": "python",
   "name": "python3"
  },
  "language_info": {
   "codemirror_mode": {
    "name": "ipython",
    "version": 3
   },
   "file_extension": ".py",
   "mimetype": "text/x-python",
   "name": "python",
   "nbconvert_exporter": "python",
   "pygments_lexer": "ipython3",
   "version": "3.10.4"
  }
 },
 "nbformat": 4,
 "nbformat_minor": 5
}
