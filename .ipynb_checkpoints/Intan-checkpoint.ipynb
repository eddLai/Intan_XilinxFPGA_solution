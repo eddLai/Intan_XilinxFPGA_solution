{
 "cells": [
  {
   "cell_type": "code",
   "execution_count": 8,
   "id": "888bdee3",
   "metadata": {},
   "outputs": [
    {
     "name": "stdout",
     "output_type": "stream",
     "text": [
      "finish\n"
     ]
    }
   ],
   "source": [
    "#Instance Intan connection\n",
    "from pynq.overlays.base import BaseOverlay\n",
    "from pynq.lib import MicroblazeLibrary\n",
    "import time\n",
    "from matplotlib import pyplot as plt\n",
    "import numpy as np\n",
    "from datetime import datetime\n",
    "from pytz import timezone\n",
    "base = BaseOverlay('base.bit')\n",
    "PMOD_SCLK_PIN = 3\n",
    "PMOD_MISO_PIN = 2\n",
    "PMOD_MOSI_PIN = 1\n",
    "PMOD_SS_PIN = 0\n",
    "SPI_CLOCK_PHASE =0\n",
    "SPI_CLOCK_PLOARITY =0\n",
    "iop=base.iop_pmoda\n",
    "lib=MicroblazeLibrary(iop,['spi'])\n",
    "spi_device=lib.spi_open(PMOD_SCLK_PIN,PMOD_MISO_PIN,PMOD_MOSI_PIN,PMOD_SS_PIN)\n",
    "spi_device.configure(SPI_CLOCK_PHASE,SPI_CLOCK_PLOARITY)\n",
    "rootpath = '/home/xilinx/jupyter_notebooks/'\n",
    "CFactor=0.000152588\n",
    "print('finish')"
   ]
  },
  {
   "cell_type": "code",
   "execution_count": 9,
   "id": "642675f6",
   "metadata": {},
   "outputs": [
    {
     "name": "stdout",
     "output_type": "stream",
     "text": [
      "Done\n"
     ]
    }
   ],
   "source": [
    "#Load function set\n",
    "def signedToUnsigned(n, byte_count):\n",
    "    return int.from_bytes(n.to_bytes(byte_count, 'little', signed=True), 'little', signed=False)\n",
    "\n",
    "def toSigned16(n):\n",
    "    n = n & 0xffff\n",
    "    return (n ^ 0x8000) - 0x8000\n",
    "\n",
    "def getDateTime(): \n",
    "    format = \"%Y-%m-%d %H:%M:%S\"\n",
    "    now_utc = datetime.now(timezone('UTC'))\n",
    "    now_asia = now_utc.astimezone(timezone('Asia/Taipei'))\n",
    "    print(now_asia.strftime(format))\n",
    "    \n",
    "def ReadIntan(reg_addr,times):\n",
    "    basebit=0xC0\n",
    "    bit2Send=basebit+reg_addr\n",
    "    #print(bit2Send)\n",
    "    byte2Send=[bit2Send,0x00]\n",
    "    byte2Recv=[0x00,0x00,0x00,0x00]\n",
    "    for num in range(1, times+1):\n",
    "        spi_device.transfer(byte2Send,byte2Recv,len(byte2Send))\n",
    "    #print(chr(byte2Recv[0]))\n",
    "    MB=signedToUnsigned(byte2Recv[0], 1)\n",
    "    LB=signedToUnsigned(byte2Recv[1], 1)\n",
    "    realdata=MB<<8|LB\n",
    "    #print(byte2Recv[1])\n",
    "    return toSigned16(realdata)\n",
    "\n",
    "def WriteIntan(R,D,timew):\n",
    "    wbasebit=0x80\n",
    "    wbit2Send=wbasebit+R\n",
    "    #print(wbit2Send)\n",
    "    wbyte2Send=[wbit2Send,D]\n",
    "    wbyte2Recv=[0x00,0x00,0x00,0x00]\n",
    "    for num in range(1, timew+1):\n",
    "        spi_device.transfer(wbyte2Send,wbyte2Recv,len(wbyte2Send))\n",
    "    #print(wbyte2Recv)\n",
    "    \n",
    "def CaliIntan():\n",
    "    cbyte2Send=[0x55,0x00]\n",
    "    cbyte2Recv=[0x00,0x00,0x00,0x00]\n",
    "    spi_device.transfer(cbyte2Send,cbyte2Recv,len(cbyte2Send))\n",
    "    #print(cbyte2Recv)\n",
    "    \n",
    "def ConvertIntan(C):\n",
    "    cobyte2Send=[C,0x00]\n",
    "    cobyte2Recv=[0x00,0x00,0x00,0x00]\n",
    "    spi_device.transfer(cobyte2Send,cobyte2Recv,len(cobyte2Send))\n",
    "    #print(cobyte2Recv)\n",
    "    MB=signedToUnsigned(cobyte2Recv[0], 1)\n",
    "    LB=signedToUnsigned(cobyte2Recv[1], 1)\n",
    "    realdata=MB<<8|LB\n",
    "    return toSigned16(realdata)*CFactor\n",
    "\n",
    "print(\"Done\")"
   ]
  },
  {
   "cell_type": "code",
   "execution_count": 10,
   "id": "90d27fd8",
   "metadata": {},
   "outputs": [
    {
     "name": "stdout",
     "output_type": "stream",
     "text": [
      "INTAN"
     ]
    }
   ],
   "source": [
    "#Check Intan connection and should get \"INTAN\" 5 characters\n",
    "checklist=list(range(40,45))\n",
    "for rom_addr in checklist:\n",
    "    readreg=ReadIntan(rom_addr,3)\n",
    "    print(chr(readreg),end='')"
   ]
  },
  {
   "cell_type": "code",
   "execution_count": 11,
   "id": "4b9aa63e",
   "metadata": {},
   "outputs": [
    {
     "name": "stdout",
     "output_type": "stream",
     "text": [
      "finish\n"
     ]
    }
   ],
   "source": [
    "#Initial Intan Module\n",
    "ReadIntan(63,2)\n",
    "\n",
    "WriteIntan(0,0xDE,1)\n",
    "\n",
    "WriteIntan(1,0x42,1)\n",
    "WriteIntan(2,0x04,1)\n",
    "\n",
    "WriteIntan(3,0x00,1)\n",
    "\n",
    "WriteIntan(4,0xC0,1)\n",
    "\n",
    "WriteIntan(5,0x40,1)\n",
    "WriteIntan(6,0x80,1)\n",
    "WriteIntan(7,0x00,1)\n",
    "\n",
    "WriteIntan(8,0x16,1)\n",
    "WriteIntan(9,0x80,1)\n",
    "WriteIntan(10,0x17,1)\n",
    "WriteIntan(11,0x80,1)\n",
    "\n",
    "WriteIntan(12,0x2C,1)\n",
    "WriteIntan(13,0x86,1)\n",
    "\n",
    "WriteIntan(14,0x00,1)\n",
    "WriteIntan(15,0xFF,1)\n",
    "WriteIntan(16,0xFF,1)\n",
    "WriteIntan(17,0x00,1)\n",
    "\n",
    "CaliIntan()\n",
    "\n",
    "ReadIntan(63,9)\n",
    "print('finish')"
   ]
  },
  {
   "cell_type": "code",
   "execution_count": 12,
   "id": "2c6178ef",
   "metadata": {
    "tags": []
   },
   "outputs": [
    {
     "name": "stdout",
     "output_type": "stream",
     "text": [
      "start\n",
      "finish\n"
     ]
    }
   ],
   "source": [
    "#Data name=\"Date Time multi_channel.txt\"\n",
    "#Data prefix=\"Date&time,invalid,invalid,CH08,CH09,CH10,CH11,CH12,CH13,CH14,CH15,CH16,CH17,CH18,CH19,CH20,CH21,CH22,CH23,invalid\"\n",
    "data_array=[0,0,0,0,0,0,0,0,0,0,0,0,0,0,0,0,0,0,0,0]\n",
    "format = \"%Y-%m-%d %H:%M:%S\"\n",
    "formatdata = \"%Y-%m-%d %H:%M:%S.%f\"\n",
    "now_utc = datetime.now(timezone('UTC'))\n",
    "now_asia = now_utc.astimezone(timezone('Asia/Taipei'))\n",
    "filesavename=str(now_asia.strftime(format))+' multi_channel.txt'\n",
    "filetosave=rootpath+filesavename\n",
    "f = open(filetosave, 'w')\n",
    "for led in base.leds:\n",
    "        led.on()\n",
    "print(\"start\")\n",
    "while (base.buttons[3].read()==0):\n",
    "    now_utc = datetime.now(timezone('UTC'))\n",
    "    now_asia = now_utc.astimezone(timezone('Asia/Taipei'))\n",
    "    data_array[0]=str(now_asia.strftime(formatdata))+'\\t'\n",
    "    readlist=list(range(8,24))\n",
    "    for channel2read in readlist:\n",
    "        data_array[channel2read-7]=str(ConvertIntan(channel2read))+'\\t'\n",
    "    data_array[17]=str(ReadIntan(63,1)*CFactor)+'\\t'  \n",
    "    data_array[18]=str(ReadIntan(63,1)*CFactor)+'\\t'\n",
    "    data_array[19]=str(ReadIntan(63,1)*CFactor)+'\\n'\n",
    "    f.writelines(data_array)\n",
    "f.close()\n",
    "print(\"finish\")\n",
    "for led in base.leds:\n",
    "    led.off()"
   ]
  },
  {
   "cell_type": "code",
   "execution_count": 13,
   "id": "016fca82-e350-4bfa-a598-2d3d5110192f",
   "metadata": {},
   "outputs": [
    {
     "name": "stdout",
     "output_type": "stream",
     "text": [
      "start\n",
      "finish\n"
     ]
    }
   ],
   "source": [
    "#Data name=\"Date Time single_channel [channel number].txt\"\n",
    "#Data prefix=\"Date&time,specified channel\"\n",
    "#Change Channel to Read Here!!!\n",
    "channel_to_read=8\n",
    "#Channel Range of RHD2132 is 8~23\n",
    "data_array=[0,0]\n",
    "format = \"%Y-%m-%d %H:%M:%S\"\n",
    "formatdata = \"%Y-%m-%d %H:%M:%S.%f\"\n",
    "now_utc = datetime.now(timezone('UTC'))\n",
    "now_asia = now_utc.astimezone(timezone('Asia/Taipei'))\n",
    "filesavename=str(now_asia.strftime(format))+' single_channel_'+str(channel_to_read)+'.txt'\n",
    "filetosave=rootpath+filesavename\n",
    "f = open(filetosave, 'w')\n",
    "for led in base.leds:\n",
    "        led.on()\n",
    "print(\"start\")\n",
    "while (base.buttons[3].read()==0):\n",
    "    now_utc = datetime.now(timezone('UTC'))\n",
    "    now_asia = now_utc.astimezone(timezone('Asia/Taipei'))\n",
    "    data_array[0]=str(now_asia.strftime(formatdata))+'\\t'\n",
    "    data_array[1]=str(ConvertIntan(channel_to_read))+'\\n'\n",
    "    f.writelines(data_array)\n",
    "f.close()\n",
    "print(\"finish\")\n",
    "for led in base.leds:\n",
    "    led.off()"
   ]
  },
  {
   "cell_type": "code",
   "execution_count": 15,
   "id": "eb37917f-43c2-4b44-8635-94f867943d74",
   "metadata": {},
   "outputs": [
    {
     "data": {
      "image/png": "[encoded data removed]",
      "text/plain": [
       "<Figure size 432x288 with 1 Axes>"
      ]
     },
     "metadata": {
      "needs_background": "light"
     },
     "output_type": "display_data"
    }
   ],
   "source": [
    "#simple data viewer\n",
    "y = []\n",
    "#change '/home/xilinx/jupyter_notebooks/DATAtoRead.txt'\n",
    "for line in open('/home/xilinx/jupyter_notebooks/2024-10-22 00:42:21 single_channel_8.txt','r'): \n",
    "    lines = [i for i in line.split('\\t')] \n",
    "    #for single channel-->lines[1]\n",
    "    #for multi channel-->lines[3]~line[18] corresponds to channel 8~23 can be used \n",
    "    y.append(float(lines[1]))\n",
    "plt.plot(y) \n",
    "plt.show()"
   ]
  },
  {
   "cell_type": "code",
   "execution_count": null,
   "id": "8dabd553-5be3-46e9-b332-007348ef7a47",
   "metadata": {},
   "outputs": [],
   "source": []
  }
 ],
 "metadata": {
  "kernelspec": {
   "display_name": "Python 3 (ipykernel)",
   "language": "python",
   "name": "python3"
  },
  "language_info": {
   "codemirror_mode": {
    "name": "ipython",
    "version": 3
   },
   "file_extension": ".py",
   "mimetype": "text/x-python",
   "name": "python",
   "nbconvert_exporter": "python",
   "pygments_lexer": "ipython3",
   "version": "3.10.4"
  }
 },
 "nbformat": 4,
 "nbformat_minor": 5
}
